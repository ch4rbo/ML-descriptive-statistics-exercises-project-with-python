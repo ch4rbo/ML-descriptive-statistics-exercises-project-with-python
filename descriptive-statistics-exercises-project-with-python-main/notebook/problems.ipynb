{
    "cells": [
        {
            "cell_type": "markdown",
            "id": "ac622319",
            "metadata": {},
            "source": [
                "# Descriptive Statistics Problems"
            ]
        },
        {
            "cell_type": "markdown",
            "id": "aa8993e4",
            "metadata": {},
            "source": [
                "### Exercise 1"
            ]
        },
        {
            "cell_type": "markdown",
            "id": "5e0ab0d5",
            "metadata": {},
            "source": [
                "As right now, you are familliar with numpy, we are going to use numpy to get some data statistics.\n",
                "\n",
                "First, lets create an array of 20 elements distributed normally (Gaussian):\n",
                "\n",
                "Use the np.random.normal function to create some data, using 0,1,20 as parameters because we want a one dimentional array of 20 numbers distributed normally (Gaussian)"
            ]
        },
        {
            "cell_type": "code",
            "execution_count": 2,
            "id": "34720ab6",
            "metadata": {},
            "outputs": [
                {
                    "name": "stdout",
                    "output_type": "stream",
                    "text": [
                        "[-0.5196425  -1.1119605  10.41796799 ... -2.58252759  7.55928253\n",
                        " -4.28099345]\n",
                        "3000\n"
                    ]
                }
            ],
            "source": [
                "#import libraries\n",
                "import numpy as np\n",
                "\n",
                "# Set seed in order to get similar results\n",
                "np.random.seed(21)\n",
                "\n",
                "# create the data\n",
                "x = np.random.normal(0,10,3000)\n",
                "\n",
                "#print results\n",
                "print(x)\n",
                "print(len(x))"
            ]
        },
        {
            "cell_type": "code",
            "execution_count": 3,
            "id": "49c55822",
            "metadata": {},
            "outputs": [
                {
                    "data": {
                        "text/plain": [
                            "0.02260594136311276"
                        ]
                    },
                    "execution_count": 3,
                    "metadata": {},
                    "output_type": "execute_result"
                }
            ],
            "source": [
                "#Use numpy to get the mean of your data\n",
                "np.mean(x)"
            ]
        },
        {
            "cell_type": "code",
            "execution_count": 4,
            "id": "03529459",
            "metadata": {},
            "outputs": [
                {
                    "data": {
                        "text/plain": [
                            "98.90587602135267"
                        ]
                    },
                    "execution_count": 4,
                    "metadata": {},
                    "output_type": "execute_result"
                }
            ],
            "source": [
                "#get the variance of your data\n",
                "np.var(x)"
            ]
        },
        {
            "cell_type": "code",
            "execution_count": 5,
            "id": "e53f30c5",
            "metadata": {},
            "outputs": [
                {
                    "data": {
                        "text/plain": [
                            "9.945143338401547"
                        ]
                    },
                    "execution_count": 5,
                    "metadata": {},
                    "output_type": "execute_result"
                }
            ],
            "source": [
                "# Standard deviation\n",
                "np.std(x)"
            ]
        },
        {
            "cell_type": "code",
            "execution_count": 6,
            "id": "9bce852f",
            "metadata": {},
            "outputs": [
                {
                    "name": "stdout",
                    "output_type": "stream",
                    "text": [
                        "ModeResult(mode=array([-38.52458596]), count=array([1]))\n",
                        "3000\n",
                        "ModeResult(mode=array([1]), count=array([5]))\n",
                        "22\n"
                    ]
                }
            ],
            "source": [
                "#import libraries and print the mode\n",
                "from scipy import stats\n",
                "\n",
                "# Mode for continuous array\n",
                "print(stats.mode(x)) \n",
                "print(len(x))\n",
                "y = np.array([4,5,6,3,2,1,5,4,2,3,4,2,1,6,4,1,2,5,4,1,1,2])\n",
                "print(stats.mode(y))\n",
                "print(len(y))"
            ]
        },
        {
            "cell_type": "code",
            "execution_count": 7,
            "id": "c682cb6e",
            "metadata": {},
            "outputs": [
                {
                    "data": {
                        "text/plain": [
                            "0.06588761105890803"
                        ]
                    },
                    "execution_count": 7,
                    "metadata": {},
                    "output_type": "execute_result"
                }
            ],
            "source": [
                "# Median\n",
                "np.median(x)"
            ]
        },
        {
            "cell_type": "code",
            "execution_count": 8,
            "id": "39c3fabd",
            "metadata": {},
            "outputs": [
                {
                    "name": "stdout",
                    "output_type": "stream",
                    "text": [
                        "0.06588761105890803\n"
                    ]
                },
                {
                    "data": {
                        "text/plain": [
                            "array([-6.75907816,  0.06588761,  6.60165838])"
                        ]
                    },
                    "execution_count": 8,
                    "metadata": {},
                    "output_type": "execute_result"
                }
            ],
            "source": [
                "# Print the Quantiles\n",
                "\n",
                "# Why the median coincidence occurs\n",
                "print(np.quantile(x, 0.5)) \n",
                "# The quartiles are the three values of the variable that divide a set of ordered data into four equal parts. \n",
                "# Q_1, Q_2 and Q_3 determine the values corresponding to 25%, 50% and 75% of the data. Q_2 coincides with the median.\n",
                "\n",
                "np.quantile(x, [0.25, 0.5, 0.75]) # se pone en una lista el porcentaje del cuartil que quiero ver"
            ]
        },
        {
            "cell_type": "markdown",
            "id": "46c70c3d",
            "metadata": {},
            "source": [
                "### Exercise 2\n",
                "\n",
                "Write a Python program to calculate the standard deviation of the following data:\n",
                "```py\n",
                "data = [4, 2, 5, 8, 6]\n",
                "```"
            ]
        },
        {
            "cell_type": "code",
            "execution_count": 10,
            "id": "1bb11305",
            "metadata": {},
            "outputs": [
                {
                    "name": "stdout",
                    "output_type": "stream",
                    "text": [
                        "Sample Data:  [4, 2, 5, 8, 6]\n",
                        "Standard Deviation :  2.23606797749979\n",
                        "Average function :  5.0\n"
                    ]
                }
            ],
            "source": [
                "import math\n",
                "import sys\n",
                "\n",
                "# Define the standard deviation function\n",
                "def sdCalcu(data):\n",
                "    #code here\n",
                "    n = len(data)\n",
                "\n",
                "    if n <= 1:\n",
                "        return 0.0\n",
                "\n",
                "    mean= avgCalcu(data) \n",
                "    sd= 0.0\n",
                "    # calculate stan. dev.\n",
                "    for y in data:\n",
                "        sd += (float(y) - mean)**2\n",
                "    sd = math.sqrt(sd / float(n-1))\n",
                "\n",
                "    return sd\n",
                "\n",
                "\n",
                "# Define the average function\n",
                "def avgCalcu(data):\n",
                "    #code here\n",
                "    n= len(data)\n",
                "    mean= 0.0\n",
                "\n",
                "    if n <= 1:\n",
                "        return data[0]\n",
                "\n",
                "    # calculate average\n",
                "    for z in data:\n",
                "        mean = mean + float(z)\n",
                "    mean = mean / float(n)\n",
                "\n",
                "    return mean\n",
                "\n",
                "\n",
                "data = [4, 2, 5, 8, 6]\n",
                "print(\"Sample Data: \", data)\n",
                "print(\"Standard Deviation : \",sdCalcu(data))\n",
                "print(\"Average function : \",avgCalcu(data))"
            ]
        },
        {
            "cell_type": "markdown",
            "id": "04b71791",
            "metadata": {},
            "source": [
                "Source:\n",
                "\n",
                "https://www.w3resource.com/"
            ]
        }
    ],
    "metadata": {
        "kernelspec": {
            "display_name": "Python 3.8.13 64-bit ('3.8.13')",
            "language": "python",
            "name": "python3"
        },
        "language_info": {
            "codemirror_mode": {
                "name": "ipython",
                "version": 3
            },
            "file_extension": ".py",
            "mimetype": "text/x-python",
            "name": "python",
            "nbconvert_exporter": "python",
            "pygments_lexer": "ipython3",
            "version": "3.8.13"
        },
        "vscode": {
            "interpreter": {
                "hash": "110cc1dee26208153f2972f08a2ad52b6a56238dc66d48e87fb757ef2996db56"
            }
        }
    },
    "nbformat": 4,
    "nbformat_minor": 5
}
