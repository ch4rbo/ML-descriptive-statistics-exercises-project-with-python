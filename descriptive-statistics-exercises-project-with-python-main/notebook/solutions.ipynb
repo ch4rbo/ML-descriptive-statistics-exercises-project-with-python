{
    "cells": [
        {
            "cell_type": "markdown",
            "id": "ac622319",
            "metadata": {},
            "source": [
                "# Descriptive Statistics Solutions"
            ]
        },
        {
            "cell_type": "markdown",
            "id": "aa8993e4",
            "metadata": {},
            "source": [
                "### Exercise 1"
            ]
        },
        {
            "cell_type": "markdown",
            "id": "5e0ab0d5",
            "metadata": {},
            "source": [
                "As right now, you are familliar with numpy and how it serves as a great tool for cleaning up your datasets.\n",
                "\n",
                "But today, we are going to be learning the use of numpay for creating basic predictions, statistics and probabilities.\n",
                "\n",
                "First, lets create an array of 20 elements distributed normally (Gaussian):\n",
                "\n",
                "We are creating this array of values because we want to use them as examples while explaining the statistical concepts.\n",
                "\n",
                "You can use the np.random.normalfunction to create an idea datasate, we are passing 0,1,20 as parameters because we want a one dimentional array of 20 numbers distributed normally (Gaussian)"
            ]
        },
        {
            "cell_type": "code",
            "execution_count": 1,
            "id": "34720ab6",
            "metadata": {},
            "outputs": [
                {
                    "name": "stdout",
                    "output_type": "stream",
                    "text": [
                        "[-10.85630603   9.97345447   2.82978498 ...  20.40431995  10.15916973\n",
                        " -16.33788169]\n"
                    ]
                }
            ],
            "source": [
                "import numpy as np\n",
                "np.random.seed(123) # Set seed in order to get similar results\n",
                "x = np.random.normal(0,10,3000)\n",
                "print(x)"
            ]
        },
        {
            "cell_type": "markdown",
            "id": "8c94f310",
            "metadata": {},
            "source": [
                "**Mean**\n",
                "\n",
                "Is the sum of all the values divided by the total amount of values (length)"
            ]
        },
        {
            "cell_type": "code",
            "execution_count": 2,
            "id": "49c55822",
            "metadata": {},
            "outputs": [
                {
                    "data": {
                        "text/plain": [
                            "-0.06940626102629906"
                        ]
                    },
                    "execution_count": 2,
                    "metadata": {},
                    "output_type": "execute_result"
                }
            ],
            "source": [
                "# Mean\n",
                "np.mean(x)"
            ]
        },
        {
            "cell_type": "markdown",
            "id": "2953ccf6",
            "metadata": {},
            "source": [
                "**Variance**\n",
                "\n",
                "It represents the average variation between each of the values, its just a representation and it is not scaled the same way as the original values, ergo, it is recomended to use in a general way."
            ]
        },
        {
            "cell_type": "code",
            "execution_count": 3,
            "id": "03529459",
            "metadata": {},
            "outputs": [
                {
                    "data": {
                        "text/plain": [
                            "96.14056359531011"
                        ]
                    },
                    "execution_count": 3,
                    "metadata": {},
                    "output_type": "execute_result"
                }
            ],
            "source": [
                "# Variance\n",
                "np.var(x)"
            ]
        },
        {
            "cell_type": "markdown",
            "id": "2e49dd5b",
            "metadata": {},
            "source": [
                "**Standard deviation**\n",
                "\n",
                "I's the square root of the variance, it better represents the variation of the data in terms of values:"
            ]
        },
        {
            "cell_type": "code",
            "execution_count": 4,
            "id": "e53f30c5",
            "metadata": {},
            "outputs": [
                {
                    "data": {
                        "text/plain": [
                            "9.805129453266291"
                        ]
                    },
                    "execution_count": 4,
                    "metadata": {},
                    "output_type": "execute_result"
                }
            ],
            "source": [
                "# Standard deviation\n",
                "np.std(x)"
            ]
        },
        {
            "cell_type": "markdown",
            "id": "de456d5f",
            "metadata": {},
            "source": [
                "**The mode**\n",
                "\n",
                "Is the most repread value in a dataset:"
            ]
        },
        {
            "cell_type": "code",
            "execution_count": 5,
            "id": "9bce852f",
            "metadata": {},
            "outputs": [
                {
                    "name": "stdout",
                    "output_type": "stream",
                    "text": [
                        "ModeResult(mode=array([-38.01378197]), count=array([1]))\n",
                        "ModeResult(mode=array([2]), count=array([4]))\n"
                    ]
                }
            ],
            "source": [
                "# Mode\n",
                "from scipy import stats\n",
                "print(stats.mode(x)) # Mode for continuous array\n",
                "v = np.array([2,1,2,3,1,2,3,4,1,5,5,3,2,3])\n",
                "print(stats.mode(v))"
            ]
        },
        {
            "cell_type": "markdown",
            "id": "3c483c33",
            "metadata": {},
            "source": [
                "**The median**\n",
                "\n",
                "Is the middle value in a dataset, it there is no exact middle (because the number of elements is multiple of 2) it will be the average between the 2 closest to the middle."
            ]
        },
        {
            "cell_type": "code",
            "execution_count": 6,
            "id": "c682cb6e",
            "metadata": {},
            "outputs": [
                {
                    "data": {
                        "text/plain": [
                            "0.13231990598237597"
                        ]
                    },
                    "execution_count": 6,
                    "metadata": {},
                    "output_type": "execute_result"
                }
            ],
            "source": [
                "# Median\n",
                "np.median(x)"
            ]
        },
        {
            "cell_type": "markdown",
            "id": "f6822ca7",
            "metadata": {},
            "source": [
                "**Quantiles**\n",
                "\n",
                "Quantiles are values that divide the data in equal parts, the most common quantile is use to divide in half (0.5 or 50%). Another very common is the 0.25 quantile that devides the data in equal parts."
            ]
        },
        {
            "cell_type": "code",
            "execution_count": 7,
            "id": "39c3fabd",
            "metadata": {},
            "outputs": [
                {
                    "name": "stdout",
                    "output_type": "stream",
                    "text": [
                        "0.13231990598237597\n"
                    ]
                },
                {
                    "data": {
                        "text/plain": [
                            "array([-11.84683828,  -4.06458696,   3.97491013,   7.83193589])"
                        ]
                    },
                    "execution_count": 7,
                    "metadata": {},
                    "output_type": "execute_result"
                }
            ],
            "source": [
                "# Quantiles\n",
                "print(np.quantile(x, 0.5)) # This match with np.median, why?\n",
                "np.quantile(x, [0.12,0.33,0.66,0.79])"
            ]
        },
        {
            "cell_type": "markdown",
            "id": "46c70c3d",
            "metadata": {},
            "source": [
                "### Exercise 2\n",
                "\n",
                "Write a Python program to calculate the standard deviation of the following data:\n",
                "```py\n",
                "data = [4, 2, 5, 8, 6]\n",
                "```"
            ]
        },
        {
            "cell_type": "code",
            "execution_count": 8,
            "id": "d590308e",
            "metadata": {},
            "outputs": [
                {
                    "name": "stdout",
                    "output_type": "stream",
                    "text": [
                        "Sample Data:  [4, 2, 5, 8, 6]\n",
                        "Standard Deviation :  2.23606797749979\n"
                    ]
                }
            ],
            "source": [
                "import math\n",
                "import sys\n",
                "\n",
                "# Define the standard deviation function\n",
                "def sd_calc(data):\n",
                "    #code here\n",
                "    n = len(data)\n",
                "\n",
                "    if n <= 1:\n",
                "        return 0.0\n",
                "\n",
                "    mean, sd = avg_calc(data), 0.0\n",
                "\n",
                "    # calculate stan. dev.\n",
                "    for el in data:\n",
                "        sd += (float(el) - mean)**2\n",
                "    sd = math.sqrt(sd / float(n-1))\n",
                "\n",
                "    return sd\n",
                "\n",
                "\n",
                "\n",
                "# Define the average function\n",
                "def avg_calc(ls):\n",
                "    #code here\n",
                "    n, mean = len(ls), 0.0\n",
                "\n",
                "    if n <= 1:\n",
                "        return ls[0]\n",
                "\n",
                "    # calculate average\n",
                "    for el in ls:\n",
                "        mean = mean + float(el)\n",
                "    mean = mean / float(n)\n",
                "\n",
                "    return mean\n",
                "\n",
                "\n",
                "data = [4, 2, 5, 8, 6]\n",
                "print(\"Sample Data: \", data)\n",
                "print(\"Standard Deviation : \",sd_calc(data))"
            ]
        },
        {
            "cell_type": "markdown",
            "id": "04b71791",
            "metadata": {},
            "source": [
                "Source:\n",
                "\n",
                "https://www.w3resource.com/"
            ]
        }
    ],
    "metadata": {
        "interpreter": {
            "hash": "0f2f6c680cf484319d387fabac80ca4ff4fc33965036e02100b3fe02600f1423"
        },
        "kernelspec": {
            "display_name": "Python 3.10.1 64-bit",
            "language": "python",
            "name": "python3"
        },
        "language_info": {
            "codemirror_mode": {
                "name": "ipython",
                "version": 3
            },
            "file_extension": ".py",
            "mimetype": "text/x-python",
            "name": "python",
            "nbconvert_exporter": "python",
            "pygments_lexer": "ipython3",
            "version": "3.10.1"
        }
    },
    "nbformat": 4,
    "nbformat_minor": 5
}
